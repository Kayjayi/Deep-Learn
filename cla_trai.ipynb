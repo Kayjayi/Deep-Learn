{
  "nbformat": 4,
  "nbformat_minor": 0,
  "metadata": {
    "colab": {
      "provenance": [],
      "authorship_tag": "ABX9TyOZclccbrskOTZ9aP58FtSi"
    },
    "kernelspec": {
      "name": "python3",
      "display_name": "Python 3"
    },
    "language_info": {
      "name": "python"
    }
  },
  "cells": [
    {
      "cell_type": "code",
      "execution_count": null,
      "metadata": {
        "id": "GdEkbO5TgsnM"
      },
      "outputs": [],
      "source": [
        "from sklearn.ensemble import RandomForestClassifier\n",
        "from sklearn.svm import SVC\n",
        "from sklearn.model_selection import train_test_split\n",
        "from sklearn.metrics import accuracy_score\n",
        "\n",
        "class ModelTrainer:\n",
        "    def __init__(self, model):\n",
        "        self.model = model\n",
        "\n",
        "    def train(self, X_train, X_test, y_train, y_test):\n",
        "        self.model.fit(X_train, y_train)\n",
        "        predictions = self.model.predict(X_test)\n",
        "        accuracy = accuracy_score(y_test, predictions)\n",
        "        return accuracy\n",
        "\n",
        "# Example usage\n",
        "if __name__ == \"__main__\":\n",
        "    # Assuming you have data X and y ready for training\n",
        "    X_train, X_test, y_train, y_test = train_test_split(X, y, test_size=0.2, random_state=42)\n",
        "\n",
        "    # Random Forest Classifier\n",
        "    rf_model = RandomForestClassifier(n_estimators=100, random_state=42)\n",
        "    rf_trainer = ModelTrainer(rf_model)\n",
        "    rf_accuracy = rf_trainer.train(X_train, X_test, y_train, y_test)\n",
        "    print(\"Random Forest Accuracy:\", rf_accuracy)\n",
        "\n",
        "    # SVM Classifier\n",
        "    svm_model = SVC(kernel='rbf', C=1.0, gamma='scale')\n",
        "    svm_trainer = ModelTrainer(svm_model)\n",
        "    svm_accuracy = svm_trainer.train(X_train, X_test, y_train, y_test)\n",
        "    print(\"SVM Accuracy:\", svm_accuracy)\n"
      ]
    }
  ]
}