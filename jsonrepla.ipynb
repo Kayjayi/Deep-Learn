{
  "nbformat": 4,
  "nbformat_minor": 0,
  "metadata": {
    "colab": {
      "provenance": [],
      "authorship_tag": "ABX9TyOLJ9AgHyUm4Jt3ImuDY5ed"
    },
    "kernelspec": {
      "name": "python3",
      "display_name": "Python 3"
    },
    "language_info": {
      "name": "python"
    }
  },
  "cells": [
    {
      "cell_type": "code",
      "execution_count": null,
      "metadata": {
        "id": "7LFzflgpUjEy"
      },
      "outputs": [],
      "source": [
        "import json\n",
        "\n",
        "def replace_word_in_json(json_path, old_word, new_word):\n",
        "    with open(json_path, 'r', encoding='utf-8') as file:\n",
        "        data = json.load(file)\n",
        "\n",
        "    # Replace the old word with the new word in string values\n",
        "    modified_data = recursively_replace(data, old_word, new_word)\n",
        "\n",
        "    # Save the modified data back to the JSON file\n",
        "    with open(json_path, 'w', encoding='utf-8') as file:\n",
        "        json.dump(modified_data, file, ensure_ascii=False, indent=2)\n",
        "\n",
        "def recursively_replace(data, old_word, new_word):\n",
        "    if isinstance(data, dict):\n",
        "        for key, value in data.items():\n",
        "            data[key] = recursively_replace(value, old_word, new_word)\n",
        "    elif isinstance(data, list):\n",
        "        for i, item in enumerate(data):\n",
        "            data[i] = recursively_replace(item, old_word, new_word)\n",
        "    elif isinstance(data, str):\n",
        "        # Replace the old word with the new word\n",
        "        data = data.replace(old_word, new_word)\n",
        "    # Add more conditions as needed for other data types\n",
        "\n",
        "    return data\n",
        "\n",
        "# Example usage:\n",
        "json_file_path = '/path/to/your/file.json'\n",
        "old_word = 'old_word'\n",
        "new_word = 'new_word'\n",
        "\n",
        "replace_word_in_json(json_file_path, old_word, new_word)\n"
      ]
    },
    {
      "cell_type": "code",
      "source": [
        "import json\n",
        "\n",
        "def replace_word_in_json(json_path, old_word, new_word):\n",
        "    with open(json_path, 'r', encoding='utf-8') as file:\n",
        "        data = json.load(file)\n",
        "\n",
        "    # Replace the old word with the new word in string values\n",
        "    modified_data = recursively_replace(data, old_word, new_word)\n",
        "\n",
        "    # Save the modified data back to the JSON file\n",
        "    with open(json_path, 'w', encoding='utf-8') as file:\n",
        "        json.dump(modified_data, file, ensure_ascii=False, indent=2)\n",
        "\n",
        "def recursively_replace(data, old_word, new_word):\n",
        "    if isinstance(data, dict):\n",
        "        for key, value in data.items():\n",
        "            data[key] = recursively_replace(value, old_word, new_word)\n",
        "    elif isinstance(data, list):\n",
        "        for i, item in enumerate(data):\n",
        "            data[i] = recursively_replace(item, old_word, new_word)\n",
        "    elif isinstance(data, str):\n",
        "        # Replace the old word with the new word\n",
        "        data = data.replace(old_word, new_word)\n",
        "    # Add more conditions as needed for other data types\n",
        "\n",
        "    return data\n",
        "\n",
        "# Example usage:\n",
        "json_file_path = '/path/to/your/file.json'\n",
        "old_word = 'old_word'\n",
        "new_word = 'new_word'\n",
        "\n",
        "replace_word_in_json(json_file_path, old_word, new_word)\n"
      ],
      "metadata": {
        "id": "GOY4tABeUu_y"
      },
      "execution_count": null,
      "outputs": []
    },
    {
      "cell_type": "code",
      "source": [
        "import glob\n",
        "import json\n",
        "import os\n",
        "\n",
        "def replace_words_in_json(json_path, old_word, new_word):\n",
        "    with open(json_path, 'r', encoding='utf-8') as file:\n",
        "        data = json.load(file)\n",
        "\n",
        "    # Replace the words in the JSON data\n",
        "    modified_data = recursively_replace(data, old_word, new_word)\n",
        "\n",
        "    # Save the modified data back to the JSON file\n",
        "    with open(json_path, 'w', encoding='utf-8') as file:\n",
        "        json.dump(modified_data, file, ensure_ascii=False, indent=2)\n",
        "\n",
        "def recursively_replace(data, old_word, new_word):\n",
        "    if isinstance(data, dict):\n",
        "        for key, value in data.items():\n",
        "            data[key] = recursively_replace(value, old_word, new_word)\n",
        "    elif isinstance(data, list):\n",
        "        for i, item in enumerate(data):\n",
        "            data[i] = recursively_replace(item, old_word, new_word)\n",
        "    elif isinstance(data, str):\n",
        "        # Replace the old word with the new word\n",
        "        data = data.replace(old_word, new_word)\n",
        "    # Add more conditions as needed for other data types\n",
        "\n",
        "    return data\n",
        "\n",
        "def process_files_in_folder(folder_path, old_word, new_word):\n",
        "    # Use glob to get a list of JSON files in the folder\n",
        "    json_files = glob.glob(os.path.join(folder_path, '*.json'))\n",
        "\n",
        "    # Process each JSON file in the folder\n",
        "    for json_file in json_files:\n",
        "        replace_words_in_json(json_file, old_word, new_word)\n",
        "        print(f\"Processed: {json_file}\")\n",
        "\n",
        "# Example usage:\n",
        "folder_path = '/path/to/your/folder'\n",
        "old_word = 'old_word'\n",
        "new_word = 'new_word'\n",
        "process_files_in_folder(folder_path, old_word, new_word)\n"
      ],
      "metadata": {
        "id": "jUY6lOpOf1yU"
      },
      "execution_count": null,
      "outputs": []
    }
  ]
}